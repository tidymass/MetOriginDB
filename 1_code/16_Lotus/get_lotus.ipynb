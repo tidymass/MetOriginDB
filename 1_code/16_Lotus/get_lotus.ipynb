{
 "cells": [
  {
   "cell_type": "code",
   "execution_count": 4,
   "metadata": {},
   "outputs": [
    {
     "name": "stdout",
     "output_type": "stream",
     "text": [
      "Collecting pymongo\n",
      "  Downloading pymongo-4.11.1-cp311-cp311-macosx_11_0_arm64.whl.metadata (22 kB)\n",
      "Collecting dnspython<3.0.0,>=1.16.0 (from pymongo)\n",
      "  Downloading dnspython-2.7.0-py3-none-any.whl.metadata (5.8 kB)\n",
      "Downloading pymongo-4.11.1-cp311-cp311-macosx_11_0_arm64.whl (840 kB)\n",
      "\u001b[2K   \u001b[90m━━━━━━━━━━━━━━━━━━━━━━━━━━━━━━━━━━━━━━━━\u001b[0m \u001b[32m840.8/840.8 kB\u001b[0m \u001b[31m17.0 MB/s\u001b[0m eta \u001b[36m0:00:00\u001b[0ma \u001b[36m0:00:01\u001b[0m\n",
      "\u001b[?25hDownloading dnspython-2.7.0-py3-none-any.whl (313 kB)\n",
      "\u001b[2K   \u001b[90m━━━━━━━━━━━━━━━━━━━━━━━━━━━━━━━━━━━━━━━━\u001b[0m \u001b[32m313.6/313.6 kB\u001b[0m \u001b[31m16.5 MB/s\u001b[0m eta \u001b[36m0:00:00\u001b[0m\n",
      "\u001b[?25hInstalling collected packages: dnspython, pymongo\n",
      "Successfully installed dnspython-2.7.0 pymongo-4.11.1\n",
      "Note: you may need to restart the kernel to use updated packages.\n"
     ]
    }
   ],
   "source": [
    "pip install pymongo"
   ]
  },
  {
   "cell_type": "code",
   "execution_count": 5,
   "metadata": {},
   "outputs": [],
   "source": [
    "from pymongo import MongoClient"
   ]
  },
  {
   "cell_type": "code",
   "execution_count": 7,
   "metadata": {},
   "outputs": [],
   "source": [
    "# 连接 MongoDB（默认在本地运行）\n",
    "client = MongoClient(\"mongodb://localhost:27017/\")"
   ]
  },
  {
   "cell_type": "code",
   "execution_count": 8,
   "metadata": {},
   "outputs": [],
   "source": [
    "db = client[\"lotus_db\"]\n",
    "collection = db[\"lotusUniqueNaturalProduct\"]"
   ]
  },
  {
   "cell_type": "code",
   "execution_count": null,
   "metadata": {},
   "outputs": [],
   "source": []
  },
  {
   "cell_type": "code",
   "execution_count": 9,
   "metadata": {},
   "outputs": [
    {
     "name": "stdout",
     "output_type": "stream",
     "text": [
      "{'_id': ObjectId('604b72f012e4996162722000'), 'lotus_id': 'LTS0263082', 'wikidata_id': 'http://www.wikidata.org/entity/Q82229004', 'contains_sugar': 0, 'heavy_atom_number': 24, 'smiles': 'C=C1C(=O)OC2/C=C(/C)CC/C=C(\\\\C(=O)O)CC/C=C(\\\\C)CCC12', 'inchi': 'InChI=1S/C20H26O4/c1-13-6-4-8-16(19(21)22)9-5-7-14(2)12-18-17(11-10-13)15(3)20(23)24-18/h6,9,12,17-18H,3-5,7-8,10-11H2,1-2H3,(H,21,22)/b13-6+,14-12-,16-9-', 'inchikey': 'SORYERHBQFTRIK-XMLQBHOOSA-N', 'inchi2D': 'InChI=1S/C20H26O4/c1-13-6-4-8-16(19(21)22)9-5-7-14(2)12-18-17(11-10-13)15(3)20(23)24-18/h6,9,12,17-18H,3-5,7-8,10-11H2,1-2H3,(H,21,22)', 'inchikey2D': 'SORYERHBQFTRIK', 'smiles2D': 'C=C1C(=O)OC2C=C(C)CCC=C(C(=O)O)CCC=C(C)CCC12', 'sugar_free_smiles': 'O=C(O)C1=CCCC(=CC2OC(=O)C(=C)C2CCC(=CCC1)C)C', 'deep_smiles': '', 'traditional_name': '6,14-dimethyl-3-methylidene-2-oxo-3ah,4h,5h,8h,9h,12h,13h,15ah-cyclotetradeca[b]furan-10-carboxylic acid', 'synonyms': [], 'iupac_name': '6,14-dimethyl-3-methylidene-2-oxo-2H,3H,3aH,4H,5H,8H,9H,12H,13H,15aH-cyclotetradeca[b]furan-10-carboxylic acid', 'contains_ring_sugars': False, 'contains_linear_sugars': False, 'collection': [], 'molecular_formula': 'C20H26O4', 'molecular_weight': 330.4187972455081, 'npl_noh_score': 0.0, 'npl_score': 1.4101078841431516, 'npl_sugar_score': 0.47941205049098956, 'number_of_carbons': 20, 'number_of_nitrogens': 0, 'number_of_oxygens': 4, 'max_number_of_rings': 3, 'min_number_of_rings': 2, 'sugar_free_heavy_atom_number': 24, 'sugar_free_total_atom_number': 24, 'total_atom_number': 50, 'bond_count': 25, 'xrefs': [], 'fragments': {'[C]([C]([C]=[C])[O]=[O])': 1, '[C](=[C]([C][C])[C]([C][O]))': 1, '[C]([C](=[C])[C]([C][C])[O]([C]))': 1, '[O]([C]([C]=[O]))': 1, '[O](=[C]([C][O]))': 2, '[C]([C]([C])=[C]([C][C]))': 2, '[C](=[C][C]([C][C])[C]([O]=[O]))': 1, '[C]([C]([C]=[C])=[O][O]([C]))': 1, '[C]([C]([C]=[C]))': 2, '[C]([C]([C])[C]([C]=[C]))': 3, '[C](=[C]([C][C]))': 1, '[O]([C]([C][C])[C]([C]=[O]))': 1, '[C]([C]([C])[C](=[C]))': 2, '[C]([C]([C])=[C]([C])[C]([O]=[O]))': 1, '[C]([C][C]([C])=[C]([C]))': 2, '[C]([C]([C])[C]([C]=[C])[C]([C][O]))': 1, '[C]([C]([C])[C]([C][C]))': 1}, 'fragmentsWithSugar': {'[C]([C]([C]=[C])[O]=[O])': 1, '[C](=[C]([C][C])[C]([C][O]))': 1, '[C]([C](=[C])[C]([C][C])[O]([C]))': 1, '[O]([C]([C]=[O]))': 1, '[O](=[C]([C][O]))': 2, '[C]([C]([C])=[C]([C][C]))': 2, '[C](=[C][C]([C][C])[C]([O]=[O]))': 1, '[C]([C]([C]=[C])=[O][O]([C]))': 1, '[C]([C]([C]=[C]))': 2, '[C]([C]([C])[C]([C]=[C]))': 3, '[C](=[C]([C][C]))': 1, '[O]([C]([C][C])[C]([C]=[O]))': 1, '[C]([C]([C])[C](=[C]))': 2, '[C]([C]([C])=[C]([C])[C]([O]=[O]))': 1, '[C]([C][C]([C])=[C]([C]))': 2, '[C]([C]([C])[C]([C]=[C])[C]([C][O]))': 1, '[C]([C]([C])[C]([C][C]))': 1}, 'murko_framework': 'O1CCC2CCC=CCCC=CCCC=CC12', 'ertlFunctionalFragments': {'[C]=[C]': 2, '[H]OC(=O)[C]=[C]': 1, '*OC(=O)[C]=[C]': 1}, 'ertlFunctionalFragmentsPseudoSmiles': {'[C]=[C]': 2, '[H]OC(=O)[C]=[C]': 1, 'ROC(=O)[C]=[C]': 1}, 'pubchemFingerprint': [9, 10, 11, 12, 18, 19, 20, 143, 146, 283, 284, 286, 308, 332, 333, 335, 339, 341, 344, 346, 352, 366, 374, 380, 405, 406, 416, 420, 430, 434, 440, 441, 443, 446, 452, 490, 524, 535, 553, 556, 573, 579, 582, 594, 599, 614, 617, 619, 637, 640, 641, 660, 666, 667, 671, 672, 678, 679, 680, 684, 686, 688, 689, 692, 698, 704, 708, 709, 710], 'pfCounts': {'count': 69, 'bits': [9, 10, 11, 12, 18, 19, 20, 143, 146, 283, 284, 286, 308, 332, 333, 335, 339, 341, 344, 346, 352, 366, 374, 380, 405, 406, 416, 420, 430, 434, 440, 441, 443, 446, 452, 490, 524, 535, 553, 556, 573, 579, 582, 594, 599, 614, 617, 619, 637, 640, 641, 660, 666, 667, 671, 672, 678, 679, 680, 684, 686, 688, 689, 692, 698, 704, 708, 709, 710]}, 'circularFingerprint': [14, 19, 53, 54, 57, 88, 93, 129, 133, 219, 239, 244, 271, 273, 299, 374, 409, 423, 442, 454, 455, 460, 485, 507, 533, 592, 608, 625, 629, 655, 715, 724, 726, 730, 766, 771, 788, 809, 841, 947, 967, 986, 1008, 1017, 1021], 'extendedFingerprint': [14, 26, 29, 32, 58, 60, 65, 68, 74, 82, 92, 94, 117, 118, 146, 164, 165, 179, 186, 192, 237, 276, 284, 296, 301, 302, 309, 325, 330, 334, 342, 350, 353, 354, 393, 404, 411, 426, 432, 438, 440, 443, 446, 453, 459, 471, 481, 486, 500, 503, 550, 555, 576, 578, 581, 585, 590, 605, 606, 610, 612, 633, 642, 669, 671, 687, 714, 723, 745, 746, 752, 766, 772, 773, 776, 781, 787, 811, 841, 848, 861, 907, 940, 948, 949, 952, 962, 966, 967, 992, 994, 995, 1009, 1010, 1013, 1014], 'pubchemBits': b'\\x00\\x1e\\x1c\\x00\\x00\\x00\\x00\\x00\\x00\\x00\\x00\\x00\\x00\\x00\\x00\\x00\\x00\\x80\\x04\\x00\\x00\\x00\\x00\\x00\\x00\\x00\\x00\\x00\\x00\\x00\\x00\\x00\\x00\\x00\\x00X\\x00\\x00\\x10\\x00\\x00\\xb0(\\x05\\x01@@\\x10\\x00\\x00`\\x00\\x11@\\x04K\\x10\\x00\\x00\\x00\\x00\\x04\\x00\\x00\\x00\\x10\\x80\\x00\\x00\\x12\\x00 H\\x00\\x84\\x00@\\n\\x00 \\x03\\x00\\x10\\x8c\\xc1Q\\x13\\x04q', 'pubchemBitsString': '0000000001111000001110000000000000000000000000000000000000000000000000000000000000000000000000000000000000000000000000000000000000000000000000010010000000000000000000000000000000000000000000000000000000000000000000000000000000000000000000000000000000000000000000000000000000000000000110100000000000000000000010000000000000000000000011010001010010100000100000000000001000000010000010000000000000000000000001100000000010001000000000100010000011010010000010000000000000000000000000000000000000100000000000000000000000000000000010000000000100000000000000000100100000000000000001000001001000000000001000010000000000000010010100000000000000000100110000000000000000001000001100011000001110001010110010000010000010001110', 'chemicalTaxonomyNPclassifierPathway': 'Terpenoids', 'chemicalTaxonomyNPclassifierSuperclass': 'Diterpenoids', 'chemicalTaxonomyNPclassifierClass': 'Cembrane diterpenoids', 'chemicalTaxonomyClassyfireKingdom': 'Organic compounds', 'chemicalTaxonomyClassyfireSuperclass': 'Lipids and lipid-like molecules', 'chemicalTaxonomyClassyfireClass': 'Prenol lipids', 'chemicalTaxonomyClassyfireDirectParent': 'Cembranolides', 'allChemClassifications': ['Cembrane diterpenoids', 'Terpenoids', 'Diterpenoids', 'Cembranolides', 'Lipids and lipid-like molecules', 'Prenol lipids', 'Organic compounds'], 'taxonomyReferenceObjects': {'10$x$x$1055/S-2007-969063': {'Open Tree of Life': [{'cleaned_organism_id': '579906', 'organism_value': 'Anisomeles indica', 'wikidata_id': 'http://www.wikidata.org/entity/Q15224066', 'reference_wikidata_id': 'http://www.wikidata.org/entity/Q47415047', 'domain': 'Eukaryota', 'kingdom': 'Archaeplastida', 'phylum': 'Streptophyta', 'classx': 'Magnoliopsida', 'family': 'Lamiaceae', 'genus': 'Anisomeles', 'species': 'Anisomeles indica', '_class': 'de.unijena.cheminf.lotusfiller.mongocollections.UncomplicatedTaxonomy'}], 'NCBI': [{'cleaned_organism_id': '516069', 'organism_value': 'Anisomeles indica', 'superkingdom': 'Eukaryota', 'kingdom': 'Viridiplantae', 'phylum': 'Streptophyta', 'classx': 'Magnoliopsida', 'family': 'Lamiaceae', 'genus': 'Anisomeles', 'species': 'Anisomeles indica', '_class': 'de.unijena.cheminf.lotusfiller.mongocollections.UncomplicatedTaxonomy'}], 'GBIF Backbone Taxonomy': [{'cleaned_organism_id': '3884461', 'organism_value': 'Anisomeles indica', 'kingdom': 'Plantae', 'phylum': 'Tracheophyta', 'classx': 'Magnoliopsida', 'family': 'Lamiaceae', 'genus': 'Anisomeles', 'species': 'Anisomeles indica', '_class': 'de.unijena.cheminf.lotusfiller.mongocollections.UncomplicatedTaxonomy'}]}, '10$x$x$1055/S-2007-969157': {'Open Tree of Life': [{'cleaned_organism_id': '579906', 'organism_value': 'Anisomeles indica', 'wikidata_id': 'http://www.wikidata.org/entity/Q15224066', 'reference_wikidata_id': 'http://www.wikidata.org/entity/Q79898734', 'domain': 'Eukaryota', 'kingdom': 'Archaeplastida', 'phylum': 'Streptophyta', 'classx': 'Magnoliopsida', 'family': 'Lamiaceae', 'genus': 'Anisomeles', 'species': 'Anisomeles indica', '_class': 'de.unijena.cheminf.lotusfiller.mongocollections.UncomplicatedTaxonomy'}], 'NCBI': [{'cleaned_organism_id': '516069', 'organism_value': 'Anisomeles indica', 'superkingdom': 'Eukaryota', 'kingdom': 'Viridiplantae', 'phylum': 'Streptophyta', 'classx': 'Magnoliopsida', 'family': 'Lamiaceae', 'genus': 'Anisomeles', 'species': 'Anisomeles indica', '_class': 'de.unijena.cheminf.lotusfiller.mongocollections.UncomplicatedTaxonomy'}], 'GBIF Backbone Taxonomy': [{'cleaned_organism_id': '3884461', 'organism_value': 'Anisomeles indica', 'kingdom': 'Plantae', 'phylum': 'Tracheophyta', 'classx': 'Magnoliopsida', 'family': 'Lamiaceae', 'genus': 'Anisomeles', 'species': 'Anisomeles indica', '_class': 'de.unijena.cheminf.lotusfiller.mongocollections.UncomplicatedTaxonomy'}]}}, 'allTaxa': ['Eukaryota', 'Anisomeles', 'Archaeplastida', 'Plantae', 'Lamiaceae', 'Magnoliopsida', 'Tracheophyta', 'Anisomeles indica', 'Streptophyta', 'Viridiplantae'], 'allWikidataIds': ['Q79898734', 'Q15224066', 'Q82229004', 'Q47415047'], 'alogp': 4.966899999999998, 'alogp2': 24.67009560999998, 'amralogp': 95.466, 'apol': 55.744617999999974, 'bcutDescriptor': [11.900000000000004, 15.99793477717979, -0.3280598662469724, 0.2899256683057484, 4.487616042170204, 10.872656951731361], 'bpol': 32.255382, 'eccentricConnectivityIndexDescriptor': 428, 'fmfDescriptor': 0.7083333333333334, 'fsp3': 0.5, 'fragmentComplexityDescriptor': 2049.04, 'gravitationalIndexHeavyAtoms': nan, 'hBondAcceptorCount': 4, 'hBondDonorCount': 1, 'hybridizationRatioDescriptor': 0.5, 'kappaShapeIndex1': 20.3136, 'kappaShapeIndex2': 9.629757785467127, 'kappaShapeIndex3': 6.046400951814396, 'manholdlogp': 3.22, 'petitjeanNumber': 0.36363636363636365, 'petitjeanShapeTopo': 0.5714285714285714, 'petitjeanShapeGeom': nan, 'lipinskiRuleOf5Failures': 0, 'numberSpiroAtoms': 0, 'vabcDescriptor': nan, 'vertexAdjMagnitude': 5.643856189774724, 'weinerPathNumber': 1317.0, 'weinerPolarityNumber': 36.0, 'xlogp': 3.6749999999999994, 'zagrebIndex': 118.0, 'topoPSA': 63.60000000000001, 'tpsaEfficiency': 0.1926203920377932, '_class': 'de.unijena.cheminf.lotusfiller.mongocollections.LotusUniqueNaturalProduct'}\n",
      "{'_id': ObjectId('604b72f012e4996162722001'), 'lotus_id': 'LTS0042752', 'wikidata_id': 'http://www.wikidata.org/entity/Q105307885', 'contains_sugar': 0, 'heavy_atom_number': 26, 'smiles': 'COc1cc2c(cc1O)C1(CC=C(C)C)COc3cc(O)ccc3C1O2', 'inchi': 'InChI=1S/C21H22O5/c1-12(2)6-7-21-11-25-17-8-13(22)4-5-14(17)20(21)26-18-10-19(24-3)16(23)9-15(18)21/h4-6,8-10,20,22-23H,7,11H2,1-3H3', 'inchikey': 'WLDDYRDGRVNYEY-UHFFFAOYSA-N', 'inchi2D': 'InChI=1S/C21H22O5/c1-12(2)6-7-21-11-25-17-8-13(22)4-5-14(17)20(21)26-18-10-19(24-3)16(23)9-15(18)21/h4-6,8-10,20,22-23H,7,11H2,1-3H3', 'inchikey2D': 'WLDDYRDGRVNYEY', 'smiles2D': 'COc1cc2c(cc1O)C1(CC=C(C)C)COc3cc(O)ccc3C1O2', 'sugar_free_smiles': 'OC1=CC=C2C(OCC3(C4=CC(O)=C(OC)C=C4OC23)CC=C(C)C)=C1', 'deep_smiles': '', 'traditional_name': '14-methoxy-10-(3-methylbut-2-en-1-yl)-8,17-dioxatetracyclo[8.7.0.0²,⁷.0¹¹,¹⁶]heptadeca-2,4,6,11(16),12,14-hexaene-5,13-diol', 'synonyms': [], 'iupac_name': '14-methoxy-10-(3-methylbut-2-en-1-yl)-8,17-dioxatetracyclo[8.7.0.0²,⁷.0¹¹,¹⁶]heptadeca-2,4,6,11(16),12,14-hexaene-5,13-diol', 'contains_ring_sugars': False, 'contains_linear_sugars': False, 'collection': [], 'molecular_formula': 'C21H22O5', 'molecular_weight': 354.39717505456224, 'npl_noh_score': 0.0, 'npl_score': 1.0, 'npl_sugar_score': 0.5416666666666666, 'number_of_carbons': 21, 'number_of_nitrogens': 0, 'number_of_oxygens': 5, 'max_number_of_rings': 10, 'min_number_of_rings': 4, 'sugar_free_heavy_atom_number': 26, 'sugar_free_total_atom_number': 26, 'total_atom_number': 48, 'bond_count': 29, 'xrefs': [], 'fragments': {'[C](p[C]([C]p[C])p[C](p[C][O]))': 1, '[C](p[C](p[C])p[C](p[C][O])[O])': 1, '[O]([C](p[C]p[C]))': 2, '[C]([C]([C][C][C])[O]([C]))': 1, '[C]([C](=[C])[C]([C][C][C]))': 1, '[O]([C]([C])[C](p[C]p[C]))': 1, '[C](p[C](p[C])[C]([C][O])p[C](p[C][O]))': 1, '[C]([O]([C]))': 1, '[C](p[C](p[C])p[C](p[C])[O])': 1, '[O]([C]([C][C])[C](p[C]p[C]))': 1, '[C](p[C](p[C])p[C]([C]p[C])[O]([C]))': 2, '[C](p[C](p[C])p[C](p[C][O]))': 1, '[C](p[C](p[C][O])p[C](p[C][O]))': 2, '[O]([C][C](p[C]p[C]))': 1, '[C]([C]([C])[C]([O])[C](p[C]p[C])[C]([C][O]))': 1, '[C]([C][C]=[C]([C]))': 1, '[C]([C](p[C]p[C])[C]([C][C][C])[O]([C]))': 1, '[C](p[C](p[C])p[C]([C]p[C]))': 1, '[C]([C]([C]=[C]))': 2, '[C]([C]([C])=[C]([C][C]))': 1, '[C](p[C](p[C])p[C](p[C][O])[C]([C][C][C]))': 1, '[C](p[C](p[C])p[C](p[C][O])[O]([C]))': 1}, 'fragmentsWithSugar': {'[C](p[C]([C]p[C])p[C](p[C][O]))': 1, '[C](p[C](p[C])p[C](p[C][O])[O])': 1, '[O]([C](p[C]p[C]))': 2, '[C]([C]([C][C][C])[O]([C]))': 1, '[C]([C](=[C])[C]([C][C][C]))': 1, '[O]([C]([C])[C](p[C]p[C]))': 1, '[C](p[C](p[C])[C]([C][O])p[C](p[C][O]))': 1, '[C]([O]([C]))': 1, '[C](p[C](p[C])p[C](p[C])[O])': 1, '[O]([C]([C][C])[C](p[C]p[C]))': 1, '[C](p[C](p[C])p[C]([C]p[C])[O]([C]))': 2, '[C](p[C](p[C])p[C](p[C][O]))': 1, '[C](p[C](p[C][O])p[C](p[C][O]))': 2, '[O]([C][C](p[C]p[C]))': 1, '[C]([C]([C])[C]([O])[C](p[C]p[C])[C]([C][O]))': 1, '[C]([C][C]=[C]([C]))': 1, '[C]([C](p[C]p[C])[C]([C][C][C])[O]([C]))': 1, '[C](p[C](p[C])p[C]([C]p[C]))': 1, '[C]([C]([C]=[C]))': 2, '[C]([C]([C])=[C]([C][C]))': 1, '[C](p[C](p[C])p[C](p[C][O])[C]([C][C][C]))': 1, '[C](p[C](p[C])p[C](p[C][O])[O]([C]))': 1}, 'murko_framework': 'O1c2ccccc2C3Oc4ccccc4C3C1', 'ertlFunctionalFragments': {'[C]=[C]': 1, '*O*': 3, '[H]O[c]': 2}, 'ertlFunctionalFragmentsPseudoSmiles': {'[C]=[C]': 1, '[H]O[C*]': 2, 'ROR': 3}, 'pubchemFingerprint': [9, 10, 11, 12, 18, 19, 20, 143, 149, 178, 179, 184, 185, 186, 192, 255, 257, 283, 284, 286, 308, 332, 333, 334, 339, 341, 344, 346, 352, 355, 356, 366, 370, 371, 374, 381, 382, 384, 405, 406, 416, 430, 434, 441, 446, 470, 476, 490, 498, 516, 520, 524, 541, 542, 544, 548, 552, 556, 564, 565, 567, 570, 573, 574, 575, 578, 582, 584, 589, 590, 594, 595, 599, 603, 604, 606, 608, 614, 617, 618, 619, 620, 626, 630, 631, 632, 634, 637, 639, 640, 641, 651, 653, 655, 660, 662, 663, 664, 666, 667, 668, 677, 678, 679, 680, 681, 688, 689, 690, 696, 697, 698, 699, 700, 701, 708, 709, 710, 711, 712, 714, 719, 735, 740, 756, 761, 777, 782, 798, 803, 819, 824], 'pfCounts': {'count': 132, 'bits': [9, 10, 11, 12, 18, 19, 20, 143, 149, 178, 179, 184, 185, 186, 192, 255, 257, 283, 284, 286, 308, 332, 333, 334, 339, 341, 344, 346, 352, 355, 356, 366, 370, 371, 374, 381, 382, 384, 405, 406, 416, 430, 434, 441, 446, 470, 476, 490, 498, 516, 520, 524, 541, 542, 544, 548, 552, 556, 564, 565, 567, 570, 573, 574, 575, 578, 582, 584, 589, 590, 594, 595, 599, 603, 604, 606, 608, 614, 617, 618, 619, 620, 626, 630, 631, 632, 634, 637, 639, 640, 641, 651, 653, 655, 660, 662, 663, 664, 666, 667, 668, 677, 678, 679, 680, 681, 688, 689, 690, 696, 697, 698, 699, 700, 701, 708, 709, 710, 711, 712, 714, 719, 735, 740, 756, 761, 777, 782, 798, 803, 819, 824]}, 'circularFingerprint': [3, 14, 19, 25, 28, 88, 118, 133, 134, 152, 183, 192, 200, 209, 302, 346, 352, 379, 386, 455, 460, 472, 514, 533, 534, 548, 549, 556, 585, 625, 633, 639, 643, 662, 675, 697, 704, 753, 756, 758, 761, 768, 777, 814, 849, 907, 945, 946, 947, 954, 967, 1011], 'extendedFingerprint': [8, 9, 13, 14, 24, 28, 30, 41, 48, 50, 53, 58, 61, 65, 68, 73, 75, 78, 85, 88, 92, 93, 96, 101, 110, 112, 117, 118, 122, 125, 129, 131, 135, 136, 137, 139, 140, 141, 146, 150, 156, 159, 160, 164, 166, 170, 175, 181, 182, 187, 190, 212, 216, 221, 231, 236, 238, 239, 243, 246, 251, 253, 261, 269, 271, 279, 282, 296, 299, 313, 320, 323, 329, 330, 338, 351, 372, 374, 400, 402, 404, 405, 408, 414, 416, 419, 423, 432, 440, 450, 453, 467, 476, 481, 485, 489, 506, 516, 520, 521, 523, 534, 541, 543, 544, 549, 550, 558, 568, 574, 590, 596, 606, 610, 620, 638, 644, 648, 650, 651, 660, 664, 666, 676, 678, 686, 695, 705, 711, 712, 718, 727, 730, 739, 741, 745, 751, 752, 759, 764, 768, 772, 781, 782, 783, 787, 796, 802, 803, 810, 826, 833, 838, 840, 842, 846, 847, 848, 849, 852, 858, 861, 862, 868, 892, 902, 913, 914, 926, 934, 943, 949, 954, 967, 972, 976, 981, 989, 991, 995, 1009, 1010, 1011, 1012, 1013, 1014, 1015, 1016], 'pubchemBits': b'\\x00\\x1e\\x1c\\x00\\x00\\x00\\x00\\x00\\x00\\x00\\x00\\x00\\x00\\x00\\x00\\x00\\x00\\x80 \\x00\\x00\\x00\\x0c\\x07\\x01\\x00\\x00\\x00\\x00\\x00\\x00\\x80\\x02\\x00\\x00X\\x00\\x00\\x10\\x00\\x00p(\\x05\\x19@L`\\x01\\x00`\\x00\\x01@\\x04B\\x00\\x00@\\x10\\x00\\x04\\x04\\x00\\x10\\x11\\x00`\\x11\\x11\\xb0\\xe4Da\\x8cXA\\x1e\\xc4\\xa5\\x03\\xa8\\xd0\\x1d\\xe0\\x03\\x07?\\xf0\\x85\\x00\\x80\\x10\\x00\\x10\\x02\\x00B\\x00@\\x08\\x00\\x08\\x01', 'pubchemBitsString': '0000000001111000001110000000000000000000000000000000000000000000000000000000000000000000000000000000000000000000000000000000000000000000000000010000010000000000000000000000000000110000111000001000000000000000000000000000000000000000000000000000000000000001010000000000000000000000000110100000000000000000000010000000000000000000000011100001010010100000100110000000001000110010000001101000000000000000000001100000000010000000000000100010000001000010000000000000000000000010000010000000000000100000001000000000000000001000100010000000000000000110100010001000100000001101001001110010001010000110001100010001101010000010011110000010001110100101110000000001010100001011101110000000011111000000111000001111110000001111101000010000000000000001000010000000000000001000010000000000000001000010000000000000001000010000000000000001000010', 'chemicalTaxonomyNPclassifierPathway': 'Shikimates and Phenylpropanoids', 'chemicalTaxonomyNPclassifierSuperclass': 'Isoflavonoids', 'chemicalTaxonomyNPclassifierClass': 'Pterocarpan', 'chemicalTaxonomyClassyfireKingdom': 'Organic compounds', 'chemicalTaxonomyClassyfireSuperclass': 'Phenylpropanoids and polyketides', 'chemicalTaxonomyClassyfireClass': 'Isoflavonoids', 'chemicalTaxonomyClassyfireDirectParent': 'Pterocarpans', 'allChemClassifications': ['Pterocarpan', 'Pterocarpans', 'Isoflavonoids', 'Shikimates and Phenylpropanoids', 'Phenylpropanoids and polyketides', 'Organic compounds'], 'taxonomyReferenceObjects': {'10$x$x$1016/S0031-9422(99)00194-6': {'Open Tree of Life': [{'cleaned_organism_id': '1077024', 'organism_value': 'Lespedeza homoloba', 'wikidata_id': 'http://www.wikidata.org/entity/Q15529005', 'reference_wikidata_id': 'http://www.wikidata.org/entity/Q48096522', 'domain': 'Eukaryota', 'kingdom': 'Archaeplastida', 'phylum': 'Streptophyta', 'classx': 'Magnoliopsida', 'family': 'Fabaceae', 'genus': 'Lespedeza', 'species': 'Lespedeza homoloba', '_class': 'de.unijena.cheminf.lotusfiller.mongocollections.UncomplicatedTaxonomy'}], 'NCBI': [{'cleaned_organism_id': '701537', 'organism_value': 'Lespedeza homoloba', 'superkingdom': 'Eukaryota', 'kingdom': 'Viridiplantae', 'phylum': 'Streptophyta', 'classx': 'Magnoliopsida', 'family': 'Fabaceae', 'genus': 'Lespedeza', 'species': 'Lespedeza homoloba', '_class': 'de.unijena.cheminf.lotusfiller.mongocollections.UncomplicatedTaxonomy'}], 'GBIF Backbone Taxonomy': [{'cleaned_organism_id': '2955727', 'organism_value': 'Lespedeza homoloba', 'kingdom': 'Plantae', 'phylum': 'Tracheophyta', 'classx': 'Magnoliopsida', 'family': 'Fabaceae', 'genus': 'Lespedeza', 'species': 'Lespedeza homoloba', '_class': 'de.unijena.cheminf.lotusfiller.mongocollections.UncomplicatedTaxonomy'}]}}, 'allTaxa': ['Eukaryota', 'Lespedeza', 'Plantae', 'Archaeplastida', 'Magnoliopsida', 'Tracheophyta', 'Lespedeza homoloba', 'Viridiplantae', 'Streptophyta', 'Fabaceae'], 'allWikidataIds': ['Q15529005', 'Q48096522', 'Q105307885'], 'alogp': 4.163599999999997, 'alogp2': 17.335564959999974, 'amralogp': 98.0129, 'apol': 55.63944599999998, 'bcutDescriptor': [11.99664813394303, 15.999754265592447, -0.3608179349261345, 0.11008537464415993, 4.925999408373122, 12.737756905565842], 'bpol': 29.798553999999996, 'eccentricConnectivityIndexDescriptor': 468, 'fmfDescriptor': 0.6538461538461539, 'fsp3': 0.3333333333333333, 'fragmentComplexityDescriptor': 1951.05, 'gravitationalIndexHeavyAtoms': nan, 'hBondAcceptorCount': 0, 'hBondDonorCount': 2, 'hybridizationRatioDescriptor': 0.3333333333333333, 'kappaShapeIndex1': 19.322235434007133, 'kappaShapeIndex2': 7.43801652892562, 'kappaShapeIndex3': 3.3378684807256236, 'manholdlogp': 3.2199999999999998, 'petitjeanNumber': 0.45454545454545453, 'petitjeanShapeTopo': 0.8333333333333334, 'petitjeanShapeGeom': nan, 'lipinskiRuleOf5Failures': 0, 'numberSpiroAtoms': 0, 'vabcDescriptor': nan, 'vertexAdjMagnitude': 5.857980995127573, 'weinerPathNumber': 1492.0, 'weinerPolarityNumber': 49.0, 'xlogp': 3.5650000000000013, 'zagrebIndex': 146.0, 'topoPSA': 68.15, 'tpsaEfficiency': 0.19243436515270065, '_class': 'de.unijena.cheminf.lotusfiller.mongocollections.LotusUniqueNaturalProduct'}\n",
      "{'_id': ObjectId('604b72f012e4996162722002'), 'lotus_id': 'LTS0048240', 'wikidata_id': 'http://www.wikidata.org/entity/Q105187570', 'contains_sugar': 0, 'heavy_atom_number': 50, 'smiles': 'C=CC1C(OC2OC(CO)C(O)C(O)C2O)OC=C2C(=O)OC(c3c(C)oc4cc(OC5OC(CO)C(O)C(O)C5O)cc(O)c4c3=O)CC21', 'inchi': 'InChI=1S/C32H38O18/c1-3-12-13-6-17(47-29(43)14(13)9-44-30(12)50-32-28(42)26(40)23(37)19(8-34)49-32)20-10(2)45-16-5-11(4-15(35)21(16)24(20)38)46-31-27(41)25(39)22(36)18(7-33)48-31/h3-5,9,12-13,17-19,22-23,25-28,30-37,39-42H,1,6-8H2,2H3', 'inchikey': 'NYMFQRBZPARUTN-UHFFFAOYSA-N', 'inchi2D': 'InChI=1S/C32H38O18/c1-3-12-13-6-17(47-29(43)14(13)9-44-30(12)50-32-28(42)26(40)23(37)19(8-34)49-32)20-10(2)45-16-5-11(4-15(35)21(16)24(20)38)46-31-27(41)25(39)22(36)18(7-33)48-31/h3-5,9,12-13,17-19,22-23,25-28,30-37,39-42H,1,6-8H2,2H3', 'inchikey2D': 'NYMFQRBZPARUTN', 'smiles2D': 'C=CC1C(OC2OC(CO)C(O)C(O)C2O)OC=C2C(=O)OC(c3c(C)oc4cc(OC5OC(CO)C(O)C(O)C5O)cc(O)c4c3=O)CC21', 'sugar_free_smiles': 'O=C1OC(C=2C(=O)C=3C(O)=CC(O)=CC3OC2C)CC4C1=COC(O)C4C=C', 'deep_smiles': '', 'traditional_name': '3-(5-ethenyl-1-oxo-6-{[3,4,5-trihydroxy-6-(hydroxymethyl)oxan-2-yl]oxy}-3h,4h,4ah,5h,6h-pyrano[3,4-c]pyran-3-yl)-5-hydroxy-2-methyl-7-{[3,4,5-trihydroxy-6-(hydroxymethyl)oxan-2-yl]oxy}chromen-4-one', 'synonyms': [], 'iupac_name': '3-(5-ethenyl-1-oxo-6-{[3,4,5-trihydroxy-6-(hydroxymethyl)oxan-2-yl]oxy}-1H,3H,4H,4aH,5H,6H-pyrano[3,4-c]pyran-3-yl)-5-hydroxy-2-methyl-7-{[3,4,5-trihydroxy-6-(hydroxymethyl)oxan-2-yl]oxy}-4H-chromen-4-one', 'contains_ring_sugars': False, 'contains_linear_sugars': False, 'collection': [], 'molecular_formula': 'C32H38O18', 'molecular_weight': 710.6345860388448, 'npl_noh_score': 0.0, 'npl_score': 0.9848903838655312, 'npl_sugar_score': 0.31504991058303244, 'number_of_carbons': 32, 'number_of_nitrogens': 0, 'number_of_oxygens': 18, 'max_number_of_rings': 8, 'min_number_of_rings': 6, 'sugar_free_heavy_atom_number': 28, 'sugar_free_total_atom_number': 28, 'total_atom_number': 88, 'bond_count': 55, 'xrefs': [], 'fragments': {'[C](p[C](p[C][O])p[C](p[C]p[O]))': 1, '[C](=[C][C]([C][C]))': 1, '[O]([C](p[C]p[C]))': 2, '[C]([C](=[C])[C]([C][C])[C]([O][O]))': 1, '[C](p[C](p[C])p[C](p[C]p[C])[O])': 1, '[C](p[C](p[C])p[C](p[C])[O])': 1, '[C](=[C]([O])[C]([C][C])[C]([O]=[O]))': 1, '[O]([C]([C][O]))': 1, '[O](=[C](p[C]p[C]))': 1, '[C](p[C](p[C][O])p[C](p[C][O]))': 1, '[C](=[C]([C]))': 1, '[C](p[C](p[C])p[C](p[C]p[C])p[O](p[C]))': 1, '[C]([C]([C][O])p[C]([C]p[O])p[C](p[C]=[O]))': 1, '[C]([C](p[C]p[O]))': 1, '[O](=[C]([C][O]))': 1, '[C]([C]([C])[C]([C][C])[C]([C]=[C]))': 1, '[C]([C]([C])[C](p[C]p[C])[O]([C]))': 1, '[O](p[C]([C]p[C])p[C](p[C]p[C]))': 1, '[C](=[C]([C][C])[O]([C]))': 1, '[C](p[C](p[C][O])p[C](p[C]=[O])p[C](p[C]p[O]))': 1, '[C](p[C]([C]p[C])p[C](p[C]p[C])=[O])': 1, '[C]([C]([C]=[C])=[O][O]([C]))': 1, '[O]([C](=[C])[C]([C][O]))': 1, '[C]([C]p[C]([C]p[C])p[O](p[C]))': 1, '[O]([C]([C][C])[C]([C]=[O]))': 1, '[C]([C]([C][C])[C]([C][O]))': 1, '[C]([C]([C][C])[O][O]([C]))': 1}, 'fragmentsWithSugar': {'[C](p[C](p[C][O])p[C](p[C]p[O]))': 1, '[C](=[C][C]([C][C]))': 1, '[O]([C](p[C]p[C]))': 2, '[C]([C](=[C])[C]([C][C])[C]([O][O]))': 1, '[C](p[C](p[C])p[C](p[C]p[C])[O])': 1, '[C](p[C](p[C])p[C](p[C])[O])': 1, '[C](=[C]([O])[C]([C][C])[C]([O]=[O]))': 1, '[O]([C]([C][O]))': 1, '[O](=[C](p[C]p[C]))': 1, '[C](p[C](p[C][O])p[C](p[C][O]))': 1, '[C](=[C]([C]))': 1, '[C](p[C](p[C])p[C](p[C]p[C])p[O](p[C]))': 1, '[C]([C]([C][O])p[C]([C]p[O])p[C](p[C]=[O]))': 1, '[C]([C](p[C]p[O]))': 1, '[O](=[C]([C][O]))': 1, '[C]([C]([C])[C]([C][C])[C]([C]=[C]))': 1, '[C]([C]([C])[C](p[C]p[C])[O]([C]))': 1, '[O](p[C]([C]p[C])p[C](p[C]p[C]))': 1, '[C](=[C]([C][C])[O]([C]))': 1, '[C](p[C](p[C][O])p[C](p[C]=[O])p[C](p[C]p[O]))': 1, '[C](p[C]([C]p[C])p[C](p[C]p[C])=[O])': 1, '[C]([C]([C]=[C])=[O][O]([C]))': 1, '[O]([C](=[C])[C]([C][O]))': 1, '[C]([C]p[C]([C]p[C])p[O](p[C]))': 1, '[O]([C]([C][C])[C]([C]=[O]))': 1, '[C]([C]([C][C])[C]([C][O]))': 1, '[C]([C]([C][C])[O][O]([C]))': 1}, 'murko_framework': 'O1C=C(Cc2ccccc12)C3OCC4=COCCC4C3', 'ertlFunctionalFragments': {'*O[C]O[C]O[C]=[C]C(=O)O*': 1, '[C]=[C]': 1, '*o*': 1, '[H]O[c]': 1, '[c]=O': 1, '[H]O[C]': 8, '*O[C]O*': 1}, 'ertlFunctionalFragmentsPseudoSmiles': {'RO[C]O[C]O[C]=[C]C(=O)OR': 1, '[C]=[C]': 1, '[C*]=O': 1, '[H]O[C*]': 1, 'RO*R': 1, 'RO[C]OR': 1, '[H]O[C]': 8}, 'pubchemFingerprint': [9, 10, 11, 12, 13, 18, 19, 20, 21, 22, 178, 179, 181, 184, 185, 188, 192, 195, 199, 202, 206, 255, 256, 257, 283, 284, 286, 308, 332, 333, 335, 339, 341, 344, 346, 347, 352, 355, 356, 366, 367, 370, 371, 374, 380, 381, 382, 384, 385, 405, 406, 409, 416, 420, 430, 432, 434, 440, 441, 443, 446, 452, 470, 476, 490, 493, 498, 516, 520, 524, 535, 541, 542, 548, 552, 553, 556, 563, 564, 565, 567, 570, 571, 573, 574, 575, 578, 579, 581, 582, 584, 588, 589, 590, 594, 595, 597, 599, 603, 604, 606, 608, 610, 614, 617, 618, 619, 620, 623, 625, 626, 632, 634, 637, 639, 640, 641, 642, 651, 653, 655, 660, 661, 662, 663, 664, 666, 667, 668, 671, 672, 677, 678, 679, 680, 681, 684, 688, 689, 690, 692, 693, 696, 697, 698, 699, 700, 701, 704, 705, 708, 709, 710, 712, 714, 740, 756, 777, 803, 819], 'pfCounts': {'count': 160, 'bits': [9, 10, 11, 12, 13, 18, 19, 20, 21, 22, 178, 179, 181, 184, 185, 188, 192, 195, 199, 202, 206, 255, 256, 257, 283, 284, 286, 308, 332, 333, 335, 339, 341, 344, 346, 347, 352, 355, 356, 366, 367, 370, 371, 374, 380, 381, 382, 384, 385, 405, 406, 409, 416, 420, 430, 432, 434, 440, 441, 443, 446, 452, 470, 476, 490, 493, 498, 516, 520, 524, 535, 541, 542, 548, 552, 553, 556, 563, 564, 565, 567, 570, 571, 573, 574, 575, 578, 579, 581, 582, 584, 588, 589, 590, 594, 595, 597, 599, 603, 604, 606, 608, 610, 614, 617, 618, 619, 620, 623, 625, 626, 632, 634, 637, 639, 640, 641, 642, 651, 653, 655, 660, 661, 662, 663, 664, 666, 667, 668, 671, 672, 677, 678, 679, 680, 681, 684, 688, 689, 690, 692, 693, 696, 697, 698, 699, 700, 701, 704, 705, 708, 709, 710, 712, 714, 740, 756, 777, 803, 819]}, 'circularFingerprint': [14, 57, 83, 88, 103, 109, 127, 133, 137, 152, 169, 205, 219, 229, 244, 254, 259, 281, 310, 315, 325, 326, 329, 346, 352, 368, 371, 395, 423, 434, 437, 460, 470, 485, 507, 509, 514, 533, 561, 625, 627, 639, 650, 655, 660, 681, 682, 715, 716, 718, 723, 747, 758, 786, 790, 824, 826, 849, 873, 884, 917, 928, 935, 942, 945, 947, 949, 963, 967, 973, 976], 'extendedFingerprint': [4, 8, 9, 11, 14, 18, 21, 26, 28, 29, 31, 37, 40, 41, 53, 57, 58, 59, 61, 64, 65, 68, 70, 74, 75, 78, 79, 82, 83, 85, 87, 88, 91, 92, 106, 109, 112, 117, 118, 119, 122, 123, 124, 128, 131, 133, 136, 139, 140, 145, 146, 147, 150, 156, 159, 160, 161, 163, 164, 165, 166, 169, 170, 173, 175, 176, 179, 181, 186, 187, 190, 191, 192, 197, 205, 212, 215, 222, 227, 231, 235, 236, 237, 238, 239, 240, 241, 242, 243, 244, 246, 249, 250, 251, 252, 266, 271, 273, 279, 280, 282, 284, 296, 298, 300, 301, 302, 304, 309, 313, 314, 322, 325, 329, 330, 334, 338, 342, 344, 350, 351, 353, 354, 359, 360, 361, 367, 372, 377, 379, 383, 385, 386, 388, 389, 390, 400, 404, 405, 408, 411, 419, 423, 426, 432, 438, 440, 443, 446, 450, 453, 459, 467, 471, 475, 476, 481, 489, 496, 499, 500, 505, 507, 508, 512, 516, 520, 529, 531, 532, 533, 534, 535, 538, 540, 541, 542, 543, 544, 549, 550, 551, 553, 555, 559, 573, 576, 578, 585, 590, 594, 597, 599, 601, 605, 606, 609, 610, 612, 615, 625, 627, 633, 642, 645, 648, 651, 658, 660, 661, 662, 669, 671, 678, 684, 687, 688, 695, 698, 703, 708, 711, 712, 714, 718, 723, 733, 739, 741, 745, 746, 749, 750, 751, 752, 755, 759, 772, 776, 778, 781, 782, 783, 784, 785, 787, 788, 789, 791, 796, 803, 810, 811, 815, 818, 826, 829, 833, 837, 839, 840, 842, 848, 856, 860, 861, 863, 875, 880, 889, 890, 892, 897, 907, 909, 911, 923, 926, 927, 930, 937, 938, 940, 948, 949, 952, 953, 954, 955, 963, 966, 967, 971, 972, 974, 976, 983, 989, 995, 1009, 1010, 1011, 1012, 1013, 1014], 'pubchemBits': b'\\x00>|\\x00\\x00\\x00\\x00\\x00\\x00\\x00\\x00\\x00\\x00\\x00\\x00\\x00\\x00\\x00\\x00\\x00\\x00\\x00,\\x13\\x89D\\x00\\x00\\x00\\x00\\x00\\x80\\x03\\x00\\x00X\\x00\\x00\\x10\\x00\\x00\\xb0(\\r\\x19\\xc0Lp\\x03\\x00`\\x02\\x11@\\x05K\\x10\\x00@\\x10\\x00$\\x04\\x00\\x10\\x11\\x80`\\x10\\x13\\xb8\\xeclq\\xacXE\\x9e\\x06\\xa5\\x07\\xa8\\xf0\\x9d\\xe1\\x137?s\\x05\\x00\\x00\\x10\\x00\\x10\\x00\\x00\\x02\\x00\\x00\\x08\\x00\\x08', 'pubchemBitsString': '00000000011111000011111000000000000000000000000000000000000000000000000000000000000000000000000000000000000000000000000000000000000000000000000000000000000000000000000000000000001101001100100010010001001000100000000000000000000000000000000000000000000000011100000000000000000000000001101000000000000000000000100000000000000000000000110100010100101100001001100000000011001100100000111011000000000000000000011001000000100010000000001010100000110100100000100000000000000000100000100000000000001001000010000000000000000010001000100000000001000001100000100011001000000111010011011100110110100011100011010100011010101000100111100101100000101001011110000000010101000011111011100110000111110010001110110011111100110011101010000000000000000000000000100000000000000010000000000000000000010000000000000000000000000100000000000000010', 'chemicalTaxonomyNPclassifierPathway': 'Terpenoids', 'chemicalTaxonomyNPclassifierSuperclass': 'Monoterpenoids', 'chemicalTaxonomyNPclassifierClass': 'Secoiridoid monoterpenoids', 'chemicalTaxonomyClassyfireKingdom': 'Organic compounds', 'chemicalTaxonomyClassyfireSuperclass': 'Organic oxygen compounds', 'chemicalTaxonomyClassyfireClass': 'Organooxygen compounds', 'chemicalTaxonomyClassyfireDirectParent': 'Phenolic glycosides', 'allChemClassifications': ['Monoterpenoids', 'Organooxygen compounds', 'Terpenoids', 'Phenolic glycosides', 'Secoiridoid monoterpenoids', 'Organic oxygen compounds', 'Organic compounds'], 'taxonomyReferenceObjects': {'10$x$x$1016/S0031-9422(02)00541-1': {'Open Tree of Life': [{'cleaned_organism_id': '3881199', 'organism_value': 'Neonauclea sessilifolia', 'wikidata_id': 'http://www.wikidata.org/entity/Q11085620', 'reference_wikidata_id': 'http://www.wikidata.org/entity/Q44349210', 'domain': 'Eukaryota', 'kingdom': 'Archaeplastida', 'phylum': 'Streptophyta', 'classx': 'Magnoliopsida', 'family': 'Rubiaceae', 'genus': 'Neonauclea', 'species': 'Neonauclea sessilifolia', '_class': 'de.unijena.cheminf.lotusfiller.mongocollections.UncomplicatedTaxonomy'}], 'GBIF Backbone Taxonomy': [{'cleaned_organism_id': '2919563', 'organism_value': 'Neonauclea sessilifolia', 'kingdom': 'Plantae', 'phylum': 'Tracheophyta', 'classx': 'Magnoliopsida', 'family': 'Rubiaceae', 'genus': 'Neonauclea', 'species': 'Neonauclea sessilifolia', '_class': 'de.unijena.cheminf.lotusfiller.mongocollections.UncomplicatedTaxonomy'}]}}, 'allTaxa': ['Neonauclea sessilifolia', 'Eukaryota', 'Archaeplastida', 'Rubiaceae', 'Plantae', 'Neonauclea', 'Magnoliopsida', 'Tracheophyta', 'Streptophyta'], 'allWikidataIds': ['Q11085620', 'Q105187570', 'Q44349210'], 'alogp': -2.0857000000000006, 'alogp2': 4.350144490000003, 'amralogp': 160.6712, 'apol': 96.09413400000004, 'bcutDescriptor': [11.899999999999956, 16.012059535666104, -0.39397899981763396, 0.2922348653794199, 4.356583298627158, 11.67100148764235], 'bpol': 56.86986599999999, 'eccentricConnectivityIndexDescriptor': 1829, 'fmfDescriptor': 0.68, 'fsp3': 0.5625, 'fragmentComplexityDescriptor': 6199.18, 'gravitationalIndexHeavyAtoms': nan, 'hBondAcceptorCount': 15, 'hBondDonorCount': 9, 'hybridizationRatioDescriptor': 0.5625, 'kappaShapeIndex1': 39.68595041322314, 'kappaShapeIndex2': 16.387864711859486, 'kappaShapeIndex3': 7.646917590565638, 'manholdlogp': 3.0000000000000004, 'petitjeanNumber': 0.5, 'petitjeanShapeTopo': 1.0, 'petitjeanShapeGeom': nan, 'lipinskiRuleOf5Failures': 3, 'numberSpiroAtoms': 0, 'vabcDescriptor': nan, 'vertexAdjMagnitude': 6.78135971352466, 'weinerPathNumber': 10407.0, 'weinerPolarityNumber': 101.0, 'xlogp': 0.09599999999999975, 'zagrebIndex': 276.0, 'topoPSA': 284.72999999999996, 'tpsaEfficiency': 0.40091195272498853, '_class': 'de.unijena.cheminf.lotusfiller.mongocollections.LotusUniqueNaturalProduct'}\n",
      "{'_id': ObjectId('604b72f012e4996162722003'), 'lotus_id': 'LTS0258417', 'wikidata_id': 'http://www.wikidata.org/entity/Q104917216', 'contains_sugar': 0, 'heavy_atom_number': 33, 'smiles': 'C=C1C(=O)OC2C(OC(C)=O)C(C)C3C(OC(=O)CC(C)C)CC(O)C3(C)C(OC(C)=O)C12', 'inchi': 'InChI=1S/C24H34O9/c1-10(2)8-17(28)32-15-9-16(27)24(7)19(15)12(4)20(30-13(5)25)21-18(11(3)23(29)33-21)22(24)31-14(6)26/h10,12,15-16,18-22,27H,3,8-9H2,1-2,4-7H3', 'inchikey': 'ARCBDBQHANOQNW-UHFFFAOYSA-N', 'inchi2D': 'InChI=1S/C24H34O9/c1-10(2)8-17(28)32-15-9-16(27)24(7)19(15)12(4)20(30-13(5)25)21-18(11(3)23(29)33-21)22(24)31-14(6)26/h10,12,15-16,18-22,27H,3,8-9H2,1-2,4-7H3', 'inchikey2D': 'ARCBDBQHANOQNW', 'smiles2D': 'C=C1C(=O)OC2C(OC(C)=O)C(C)C3C(OC(=O)CC(C)C)CC(O)C3(C)C(OC(C)=O)C12', 'sugar_free_smiles': 'O=C1OC2C(OC(=O)C)C(C)C3C(OC(=O)CC(C)C)CC(O)C3(C)C(OC(=O)C)C2C1=C', 'deep_smiles': '', 'traditional_name': '4,9-bis(acetyloxy)-5-hydroxy-4a,8-dimethyl-3-methylidene-2-oxo-octahydro-3ah-azuleno[6,5-b]furan-7-yl 3-methylbutanoate', 'synonyms': [], 'iupac_name': '4,9-bis(acetyloxy)-5-hydroxy-4a,8-dimethyl-3-methylidene-2-oxo-dodecahydroazuleno[6,5-b]furan-7-yl 3-methylbutanoate', 'contains_ring_sugars': False, 'contains_linear_sugars': False, 'collection': [], 'molecular_formula': 'C24H34O9', 'molecular_weight': 466.5222915011134, 'npl_noh_score': 0.0, 'npl_score': 1.0011479508675372, 'npl_sugar_score': 0.49944810911992105, 'number_of_carbons': 24, 'number_of_nitrogens': 0, 'number_of_oxygens': 9, 'max_number_of_rings': 6, 'min_number_of_rings': 3, 'sugar_free_heavy_atom_number': 33, 'sugar_free_total_atom_number': 33, 'total_atom_number': 67, 'bond_count': 35, 'xrefs': [], 'fragments': {'[C]([C]([C])=[O][O]([C]))': 1, '[C]([C]([C])[C]([C][C])[O]([C]))': 1, '[C]([C]([C][C])[C]([C][O])[O]([C]))': 2, '[C]([C]([C][O])[C]([C][O]))': 1, '[C]([C][C]([C][C])[C]([C][O]))': 1, '[C]([C]([O]=[O]))': 2, '[C](=[C]([C][C]))': 1, '[C]([C][C][C]([C]))': 1, '[O](=[C]([C][O]))': 4, '[C]([C]([C][C])[C]([C][O])[C]([C][C][C]))': 1, '[O]([C]([C][C]))': 1, '[C]([C]([C][C][C]))': 1, '[C]([C]([C][C])[C]([O]=[O]))': 1, '[C]([C]=[O][O]([C]))': 2, '[C]([C]([C][C]))': 3, '[C]([C]([C]=[C])=[O][O]([C]))': 1, '[C]([C]([C]=[C])[C]([C][O])[C]([C][O]))': 1, '[C]([C]([C])[C]([C][C][C])[O])': 1, '[C]([C]([C][C])[C]([C][C][C])[O]([C]))': 1, '[O]([C]([C][C])[C]([C]=[O]))': 4, '[C](=[C][C]([C][C])[C]([O]=[O]))': 1, '[C]([C][C]([C][C])[C]([C][O])[C]([C][O]))': 1}, 'fragmentsWithSugar': {'[C]([C]([C])=[O][O]([C]))': 1, '[C]([C]([C])[C]([C][C])[O]([C]))': 1, '[C]([C]([C][C])[C]([C][O])[O]([C]))': 2, '[C]([C]([C][O])[C]([C][O]))': 1, '[C]([C][C]([C][C])[C]([C][O]))': 1, '[C]([C]([O]=[O]))': 2, '[C](=[C]([C][C]))': 1, '[C]([C][C][C]([C]))': 1, '[O](=[C]([C][O]))': 4, '[C]([C]([C][C])[C]([C][O])[C]([C][C][C]))': 1, '[O]([C]([C][C]))': 1, '[C]([C]([C][C][C]))': 1, '[C]([C]([C][C])[C]([O]=[O]))': 1, '[C]([C]=[O][O]([C]))': 2, '[C]([C]([C][C]))': 3, '[C]([C]([C]=[C])=[O][O]([C]))': 1, '[C]([C]([C]=[C])[C]([C][O])[C]([C][O]))': 1, '[C]([C]([C])[C]([C][C][C])[O])': 1, '[C]([C]([C][C])[C]([C][C][C])[O]([C]))': 1, '[O]([C]([C][C])[C]([C]=[O]))': 4, '[C](=[C][C]([C][C])[C]([O]=[O]))': 1, '[C]([C][C]([C][C])[C]([C][O])[C]([C][O]))': 1}, 'murko_framework': 'O1CCC2CC3CCCC3CCC12', 'ertlFunctionalFragments': {'*OC(*)=O': 3, '[H]O[C]': 1, '*OC(=O)[C]=[C]': 1}, 'ertlFunctionalFragmentsPseudoSmiles': {'ROC(=O)[C]=[C]': 1, '[H]O[C]': 1, 'ROC(R)=O': 3}, 'pubchemFingerprint': [9, 10, 11, 12, 18, 19, 20, 21, 143, 144, 146, 150, 213, 214, 283, 284, 286, 308, 332, 333, 334, 335, 339, 341, 344, 346, 352, 366, 374, 380, 405, 406, 416, 420, 430, 440, 441, 443, 446, 452, 490, 535, 553, 556, 567, 571, 573, 579, 582, 594, 599, 614, 617, 637, 639, 640, 641, 662, 666, 672, 679, 680, 681, 684, 686, 688, 689, 690, 692, 693, 696, 697, 698, 699, 700, 701, 704, 705, 708, 709, 710, 711, 712, 840, 845, 860, 861], 'pfCounts': {'count': 87, 'bits': [9, 10, 11, 12, 18, 19, 20, 21, 143, 144, 146, 150, 213, 214, 283, 284, 286, 308, 332, 333, 334, 335, 339, 341, 344, 346, 352, 366, 374, 380, 405, 406, 416, 420, 430, 440, 441, 443, 446, 452, 490, 535, 553, 556, 567, 571, 573, 579, 582, 594, 599, 614, 617, 637, 639, 640, 641, 662, 666, 672, 679, 680, 681, 684, 686, 688, 689, 690, 692, 693, 696, 697, 698, 699, 700, 701, 704, 705, 708, 709, 710, 711, 712, 840, 845, 860, 861]}, 'circularFingerprint': [14, 19, 25, 42, 43, 48, 53, 57, 70, 88, 99, 119, 133, 152, 206, 244, 259, 266, 304, 342, 346, 377, 419, 442, 447, 460, 466, 498, 507, 510, 516, 533, 562, 592, 625, 639, 646, 655, 695, 726, 761, 768, 779, 801, 813, 856, 863, 884, 885, 909, 935, 947, 963, 981, 1008, 1017], 'extendedFingerprint': [8, 14, 29, 32, 53, 57, 65, 68, 87, 92, 117, 118, 139, 146, 164, 176, 179, 182, 186, 237, 264, 284, 296, 298, 302, 309, 325, 330, 334, 338, 350, 353, 354, 367, 405, 407, 419, 438, 441, 444, 446, 453, 471, 481, 505, 507, 529, 534, 535, 545, 550, 560, 576, 578, 585, 601, 605, 606, 608, 610, 612, 615, 624, 625, 633, 648, 649, 650, 671, 687, 714, 723, 745, 746, 752, 757, 776, 781, 787, 801, 811, 829, 848, 861, 875, 907, 940, 948, 949, 952, 955, 966, 967, 970, 972, 991, 995, 1009, 1010, 1011, 1013, 1014, 1015], 'pubchemBits': b'\\x00\\x1e<\\x00\\x00\\x00\\x00\\x00\\x00\\x00\\x00\\x00\\x00\\x00\\x00\\x00\\x00\\x80E\\x00\\x00\\x00\\x00\\x00\\x00\\x00`\\x00\\x00\\x00\\x00\\x00\\x00\\x00\\x00X\\x00\\x00\\x10\\x00\\x00\\xf0(\\x05\\x01@@\\x10\\x00\\x00`\\x00\\x11@\\x00K\\x10\\x00\\x00\\x00\\x00\\x04\\x00\\x00\\x00\\x00\\x80\\x00\\x00\\x12\\x80(H\\x00\\x84\\x00@\\x02\\x00\\xa0\\x03\\x00@\\x04\\x81S7?\\xf3\\x01\\x00\\x00\\x00\\x00\\x00\\x00\\x00\\x00\\x00\\x00\\x00\\x00\\x00\\x00\\x00!\\x000', 'pubchemBitsString': '00000000011110000011110000000000000000000000000000000000000000000000000000000000000000000000000000000000000000000000000000000000000000000000000110100010000000000000000000000000000000000000000000000000000000000000011000000000000000000000000000000000000000000000000000000000000000000001101000000000000000000000100000000000000000000000111100010100101000001000000000000010000000100000100000000000000000000000011000000000100010000000001000000000110100100000100000000000000000000000000000000000001000000000000000000000000000000000000000000001000000000000000001001000000000010001010000010010000000000010000100000000000000100100000000000000000001011100000000000000000000100010000010000001110010101110110011111100110011111000000000000000000000000000000000000000000000000000000000000000000000000000000000000000000000000000000000000000000000000000000010000100000000000000110', 'chemicalTaxonomyNPclassifierPathway': 'Terpenoids', 'chemicalTaxonomyNPclassifierSuperclass': 'Sesquiterpenoids', 'chemicalTaxonomyNPclassifierClass': 'Pseudoguaiane sesquiterpenoids', 'chemicalTaxonomyClassyfireKingdom': 'Organic compounds', 'chemicalTaxonomyClassyfireSuperclass': 'Lipids and lipid-like molecules', 'chemicalTaxonomyClassyfireClass': 'Prenol lipids', 'chemicalTaxonomyClassyfireDirectParent': 'Sesquiterpene lactones', 'allChemClassifications': ['Sesquiterpene lactones', 'Terpenoids', 'Sesquiterpenoids', 'Pseudoguaiane sesquiterpenoids', 'Lipids and lipid-like molecules', 'Prenol lipids', 'Organic compounds'], 'taxonomyReferenceObjects': {'10$x$x$1016/S0031-9422(00)84954-7': {'iNaturalist': [{'cleaned_organism_id': '51768', 'organism_value': 'Gaillardia pulchella', 'kingdom': 'Plantae', 'phylum': 'Tracheophyta', 'classx': 'Magnoliopsida', 'family': 'Asteraceae', 'genus': 'Gaillardia', 'species': 'Gaillardia pulchella', '_class': 'de.unijena.cheminf.lotusfiller.mongocollections.UncomplicatedTaxonomy'}], 'ITIS': [{'cleaned_organism_id': '37410', 'organism_value': 'Gaillardia pulchella', 'kingdom': 'Plantae', 'classx': 'Magnoliopsida', 'family': 'Asteraceae', 'genus': 'Gaillardia', 'species': 'Gaillardia pulchella', '_class': 'de.unijena.cheminf.lotusfiller.mongocollections.UncomplicatedTaxonomy'}], 'VASCAN': [{'cleaned_organism_id': '3172', 'organism_value': 'Gaillardia pulchella', 'classx': 'Equisetopsida', 'family': 'Asteraceae', 'genus': 'Gaillardia', 'species': 'Gaillardia pulchella', '_class': 'de.unijena.cheminf.lotusfiller.mongocollections.UncomplicatedTaxonomy'}], 'Open Tree of Life': [{'cleaned_organism_id': '1001127', 'organism_value': 'Gaillardia pulchella', 'wikidata_id': 'http://www.wikidata.org/entity/Q2701210', 'reference_wikidata_id': 'http://www.wikidata.org/entity/Q104914599', 'domain': 'Eukaryota', 'kingdom': 'Archaeplastida', 'phylum': 'Streptophyta', 'classx': 'Magnoliopsida', 'family': 'Asteraceae', 'genus': 'Gaillardia', 'species': 'Gaillardia pulchella', '_class': 'de.unijena.cheminf.lotusfiller.mongocollections.UncomplicatedTaxonomy'}], 'NCBI': [{'cleaned_organism_id': '128738', 'organism_value': 'Gaillardia pulchella', 'superkingdom': 'Eukaryota', 'kingdom': 'Viridiplantae', 'phylum': 'Streptophyta', 'classx': 'Magnoliopsida', 'family': 'Asteraceae', 'genus': 'Gaillardia', 'species': 'Gaillardia pulchella', '_class': 'de.unijena.cheminf.lotusfiller.mongocollections.UncomplicatedTaxonomy'}], 'GBIF Backbone Taxonomy': [{'cleaned_organism_id': '5387821', 'organism_value': 'Gaillardia pulchella', 'kingdom': 'Plantae', 'phylum': 'Tracheophyta', 'classx': 'Magnoliopsida', 'family': 'Asteraceae', 'genus': 'Gaillardia', 'species': 'Gaillardia pulchella', '_class': 'de.unijena.cheminf.lotusfiller.mongocollections.UncomplicatedTaxonomy'}]}}, 'allTaxa': ['Gaillardia pulchella', 'Eukaryota', 'Plantae', 'Asteraceae', 'Equisetopsida', 'Archaeplastida', 'Magnoliopsida', 'Gaillardia', 'Tracheophyta', 'Viridiplantae', 'Streptophyta'], 'allWikidataIds': ['Q2701210', 'Q104914599', 'Q104917216'], 'alogp': 1.6824999999999988, 'alogp2': 2.8308062499999957, 'amralogp': 113.41610000000001, 'apol': 72.12896199999999, 'bcutDescriptor': [11.900000000000011, 16.002969007131888, -0.3918369953796699, 0.289643695928563, 4.297720678050591, 13.135589115248205], 'bpol': 48.66503799999999, 'eccentricConnectivityIndexDescriptor': 625, 'fmfDescriptor': 0.3939393939393939, 'fsp3': 0.75, 'fragmentComplexityDescriptor': 3705.09, 'gravitationalIndexHeavyAtoms': nan, 'hBondAcceptorCount': 9, 'hBondDonorCount': 1, 'hybridizationRatioDescriptor': 0.75, 'kappaShapeIndex1': 27.58530612244898, 'kappaShapeIndex2': 10.545953360768175, 'kappaShapeIndex3': 5.259313367421475, 'manholdlogp': 3.1099999999999994, 'petitjeanNumber': 0.5, 'petitjeanShapeTopo': 1.0, 'petitjeanShapeGeom': nan, 'lipinskiRuleOf5Failures': 0, 'numberSpiroAtoms': 0, 'vabcDescriptor': nan, 'vertexAdjMagnitude': 6.129283016944966, 'weinerPathNumber': 2706.0, 'weinerPolarityNumber': 64.0, 'xlogp': 2.555, 'zagrebIndex': 178.0, 'topoPSA': 125.43, 'tpsaEfficiency': 0.2690359141156074, '_class': 'de.unijena.cheminf.lotusfiller.mongocollections.LotusUniqueNaturalProduct'}\n",
      "{'_id': ObjectId('604b72f012e4996162722004'), 'lotus_id': 'LTS0262284', 'wikidata_id': 'http://www.wikidata.org/entity/Q105386906', 'contains_sugar': 0, 'heavy_atom_number': 21, 'smiles': 'CC1(C)CCCC2(C)C1CCC13C=CC(CO)(CCC12)C3', 'inchi': 'InChI=1S/C20H32O/c1-17(2)7-4-8-18(3)15(17)6-10-20-12-11-19(13-20,14-21)9-5-16(18)20/h11-12,15-16,21H,4-10,13-14H2,1-3H3', 'inchikey': 'ZZMIOBAZLJMEDV-UHFFFAOYSA-N', 'inchi2D': 'InChI=1S/C20H32O/c1-17(2)7-4-8-18(3)15(17)6-10-20-12-11-19(13-20,14-21)9-5-16(18)20/h11-12,15-16,21H,4-10,13-14H2,1-3H3', 'inchikey2D': 'ZZMIOBAZLJMEDV', 'smiles2D': 'CC1(C)CCCC2(C)C1CCC13C=CC(CO)(CCC12)C3', 'sugar_free_smiles': 'OCC12C=CC3(CCC4C(C)(C)CCCC4(C)C3CC1)C2', 'deep_smiles': '', 'traditional_name': '{5,5,9-trimethyltetracyclo[11.2.1.0¹,¹⁰.0⁴,⁹]hexadec-14-en-13-yl}methanol', 'synonyms': [], 'iupac_name': '{5,5,9-trimethyltetracyclo[11.2.1.0¹,¹⁰.0⁴,⁹]hexadec-14-en-13-yl}methanol', 'contains_ring_sugars': False, 'contains_linear_sugars': False, 'collection': [], 'molecular_formula': 'C20H32O', 'molecular_weight': 288.46822698575465, 'npl_noh_score': 0.0, 'npl_score': 1.0, 'npl_sugar_score': 0.39622641509433965, 'number_of_carbons': 20, 'number_of_nitrogens': 0, 'number_of_oxygens': 1, 'max_number_of_rings': 10, 'min_number_of_rings': 4, 'sugar_free_heavy_atom_number': 21, 'sugar_free_total_atom_number': 21, 'total_atom_number': 53, 'bond_count': 24, 'xrefs': [], 'fragments': {'[O]([C]([C]))': 1, '[C]([C]([C])[C]([C])[C](=[C])[C]([C][C]))': 1, '[C]([C]([C][C][C]))': 3, '[C]([C]([C])[C]([C])[C](=[C])[C]([O]))': 1, '[C](=[C]([C])[C]([C][C][C]))': 2, '[C]([C][C]([C])[C]([C][C])[C]([C][C]))': 1, '[C]([C]([C])[C]([C][C][C]))': 4, '[C]([C][C][C]([C])[C]([C][C]))': 1, '[C]([C]([C])[C]([C][C][C])[C]([C][C][C]))': 2, '[C]([C]([C])[C]([C]))': 1, '[C]([C]([C][C][C])[C]([C][C][C]))': 1, '[C]([C]([C])[C]([C][C]))': 2, '[C]([C]([C][C][C])[O])': 1}, 'fragmentsWithSugar': {'[O]([C]([C]))': 1, '[C]([C]([C])[C]([C])[C](=[C])[C]([C][C]))': 1, '[C]([C]([C][C][C]))': 3, '[C]([C]([C])[C]([C])[C](=[C])[C]([O]))': 1, '[C](=[C]([C])[C]([C][C][C]))': 2, '[C]([C][C]([C])[C]([C][C])[C]([C][C]))': 1, '[C]([C]([C])[C]([C][C][C]))': 4, '[C]([C][C][C]([C])[C]([C][C]))': 1, '[C]([C]([C])[C]([C][C][C])[C]([C][C][C]))': 2, '[C]([C]([C])[C]([C]))': 1, '[C]([C]([C][C][C])[C]([C][C][C]))': 1, '[C]([C]([C])[C]([C][C]))': 2, '[C]([C]([C][C][C])[O])': 1}, 'murko_framework': 'C1=CC23CCC4CCCCC4C3CCC1C2', 'ertlFunctionalFragments': {'[C]=[C]': 1, '[H]O[C]': 1}, 'ertlFunctionalFragmentsPseudoSmiles': {'[C]=[C]': 1, '[H]O[C]': 1}, 'pubchemFingerprint': [9, 10, 11, 12, 18, 143, 147, 178, 179, 185, 186, 192, 193, 283, 284, 286, 308, 332, 333, 334, 335, 344, 346, 352, 366, 374, 406, 416, 434, 441, 446, 490, 516, 524, 556, 571, 582, 617, 637, 640, 641, 660, 678, 679, 680, 688, 689, 696, 697, 698, 699, 708, 709, 710, 711, 712, 776, 797, 818], 'pfCounts': {'count': 59, 'bits': [9, 10, 11, 12, 18, 143, 147, 178, 179, 185, 186, 192, 193, 283, 284, 286, 308, 332, 333, 334, 335, 344, 346, 352, 366, 374, 406, 416, 434, 441, 446, 490, 516, 524, 556, 571, 582, 617, 637, 640, 641, 660, 678, 679, 680, 688, 689, 696, 697, 698, 699, 708, 709, 710, 711, 712, 776, 797, 818]}, 'circularFingerprint': [8, 14, 25, 42, 50, 88, 138, 152, 159, 192, 210, 221, 236, 265, 284, 325, 345, 461, 481, 498, 573, 592, 625, 655, 682, 717, 729, 771, 777, 801, 863, 910, 916, 947, 967, 1017], 'extendedFingerprint': [65, 94, 117, 118, 146, 271, 296, 302, 334, 404, 411, 438, 440, 453, 471, 481, 503, 590, 601, 606, 610, 671, 687, 746, 752, 763, 772, 787, 796, 811, 848, 948, 949, 962, 967, 995, 1009, 1010, 1011, 1012, 1013, 1014, 1015, 1016], 'pubchemBits': b'\\x00\\x1e\\x04\\x00\\x00\\x00\\x00\\x00\\x00\\x00\\x00\\x00\\x00\\x00\\x00\\x00\\x00\\x80\\x08\\x00\\x00\\x00\\x0c\\x06\\x03\\x00\\x00\\x00\\x00\\x00\\x00\\x00\\x00\\x00\\x00X\\x00\\x00\\x10\\x00\\x00\\xf0\\x00\\x05\\x01@@\\x00\\x00\\x00@\\x00\\x01\\x00\\x04B\\x00\\x00\\x00\\x00\\x00\\x04\\x00\\x00\\x10\\x10\\x00\\x00\\x00\\x10\\x00\\x08@\\x00\\x00\\x00\\x00\\x02\\x00 \\x03\\x00\\x10\\x00\\xc0\\x01\\x03\\x0f\\xf0\\x01\\x00\\x00\\x00\\x00\\x00\\x00\\x00\\x01\\x00 \\x00\\x00\\x04', 'pubchemBitsString': '0000000001111000001000000000000000000000000000000000000000000000000000000000000000000000000000000000000000000000000000000000000000000000000000010001000000000000000000000000000000110000011000001100000000000000000000000000000000000000000000000000000000000000000000000000000000000000000110100000000000000000000010000000000000000000000011110000000010100000100000000000001000000010000000000000000000000000000000100000000010000000000000000010000001000010000000000000000000000000000000000000000000100000000000000000000000001000000010000000000000000000000000000000100000000000000100000000001000000000000000000000000000000000010000000000000000000100110000000000000000001000000000000000001110000000110000001111000000001111100000000000000000000000000000000000000000000000000000000000000010000000000000000000010000000000000000000010', 'chemicalTaxonomyNPclassifierPathway': 'Terpenoids', 'chemicalTaxonomyNPclassifierSuperclass': 'Diterpenoids', 'chemicalTaxonomyNPclassifierClass': 'Beyerane diterpenoids', 'chemicalTaxonomyClassyfireKingdom': 'Organic compounds', 'chemicalTaxonomyClassyfireSuperclass': 'Lipids and lipid-like molecules', 'chemicalTaxonomyClassyfireClass': 'Prenol lipids', 'chemicalTaxonomyClassyfireDirectParent': 'Diterpenoids', 'allChemClassifications': ['Terpenoids', 'Beyerane diterpenoids', 'Diterpenoids', 'Lipids and lipid-like molecules', 'Prenol lipids', 'Organic compounds'], 'taxonomyReferenceObjects': {'10$x$x$1016/0031-9422(93)85235-J': {'ITIS': [{'cleaned_organism_id': '29197', 'organism_value': 'Erythroxylum rotundifolium', 'kingdom': 'Plantae', 'classx': 'Magnoliopsida', 'family': 'Erythroxylaceae', 'genus': 'Erythroxylum', 'species': 'Erythroxylum rotundifolium', '_class': 'de.unijena.cheminf.lotusfiller.mongocollections.UncomplicatedTaxonomy'}], 'NCBI': [{'cleaned_organism_id': '113285', 'organism_value': 'Erythroxylum argentinum', 'superkingdom': 'Eukaryota', 'kingdom': 'Viridiplantae', 'phylum': 'Streptophyta', 'classx': 'Magnoliopsida', 'family': 'Erythroxylaceae', 'genus': 'Erythroxylum', 'species': 'Erythroxylum argentinum', '_class': 'de.unijena.cheminf.lotusfiller.mongocollections.UncomplicatedTaxonomy'}, {'cleaned_organism_id': '1471846', 'organism_value': 'Erythroxylum rotundifolium', 'superkingdom': 'Eukaryota', 'kingdom': 'Viridiplantae', 'phylum': 'Streptophyta', 'classx': 'Magnoliopsida', 'family': 'Erythroxylaceae', 'genus': 'Erythroxylum', 'species': 'Erythroxylum rotundifolium', '_class': 'de.unijena.cheminf.lotusfiller.mongocollections.UncomplicatedTaxonomy'}], 'Open Tree of Life': [{'cleaned_organism_id': '907742', 'organism_value': 'Erythroxylum argentinum', 'wikidata_id': 'http://www.wikidata.org/entity/Q15376126', 'reference_wikidata_id': 'http://www.wikidata.org/entity/Q104918605', 'domain': 'Eukaryota', 'kingdom': 'Archaeplastida', 'phylum': 'Streptophyta', 'classx': 'Magnoliopsida', 'family': 'Erythroxylaceae', 'genus': 'Erythroxylum', 'species': 'Erythroxylum argentinum', '_class': 'de.unijena.cheminf.lotusfiller.mongocollections.UncomplicatedTaxonomy'}, {'cleaned_organism_id': '3915940', 'organism_value': 'Erythroxylum rotundifolium', 'wikidata_id': 'http://www.wikidata.org/entity/Q15379467', 'reference_wikidata_id': 'http://www.wikidata.org/entity/Q104918605', 'domain': 'Eukaryota', 'kingdom': 'Archaeplastida', 'phylum': 'Streptophyta', 'classx': 'Magnoliopsida', 'family': 'Erythroxylaceae', 'genus': 'Erythroxylum', 'species': 'Erythroxylum rotundifolium', '_class': 'de.unijena.cheminf.lotusfiller.mongocollections.UncomplicatedTaxonomy'}], 'GBIF Backbone Taxonomy': [{'cleaned_organism_id': '7284806', 'organism_value': 'Erythroxylum argentinum', 'kingdom': 'Plantae', 'phylum': 'Tracheophyta', 'classx': 'Magnoliopsida', 'family': 'Erythroxylaceae', 'genus': 'Erythroxylum', 'species': 'Erythroxylum argentinum', '_class': 'de.unijena.cheminf.lotusfiller.mongocollections.UncomplicatedTaxonomy'}, {'cleaned_organism_id': '2873940', 'organism_value': 'Erythroxylum rotundifolium', 'kingdom': 'Plantae', 'phylum': 'Tracheophyta', 'classx': 'Magnoliopsida', 'family': 'Erythroxylaceae', 'genus': 'Erythroxylum', 'species': 'Erythroxylum rotundifolium', '_class': 'de.unijena.cheminf.lotusfiller.mongocollections.UncomplicatedTaxonomy'}]}}, 'allTaxa': ['Erythroxylum rotundifolium', 'Erythroxylaceae', 'Eukaryota', 'Erythroxylum argentinum', 'Erythroxylum', 'Plantae', 'Archaeplastida', 'Magnoliopsida', 'Tracheophyta', 'Viridiplantae', 'Streptophyta'], 'allWikidataIds': ['Q15379467', 'Q15376126', 'Q104918605', 'Q105386906'], 'alogp': 4.247499999999997, 'alogp2': 18.041256249999975, 'amralogp': 88.68669999999999, 'apol': 57.339375999999966, 'bcutDescriptor': [11.899999999999993, 15.994919663126451, -0.3948795640320099, 0.0813505938451785, 5.01423768801838, 13.025058206252908], 'bpol': 34.982623999999994, 'eccentricConnectivityIndexDescriptor': 320, 'fmfDescriptor': 0.7619047619047619, 'fsp3': 0.9, 'fragmentComplexityDescriptor': 2716.01, 'gravitationalIndexHeavyAtoms': nan, 'hBondAcceptorCount': 1, 'hBondDonorCount': 1, 'hybridizationRatioDescriptor': 0.9, 'kappaShapeIndex1': 14.583333333333334, 'kappaShapeIndex2': 4.29506246281975, 'kappaShapeIndex3': 1.8, 'manholdlogp': 3.5500000000000003, 'petitjeanNumber': 0.4444444444444444, 'petitjeanShapeTopo': 0.8, 'petitjeanShapeGeom': nan, 'lipinskiRuleOf5Failures': 1, 'numberSpiroAtoms': 0, 'vabcDescriptor': nan, 'vertexAdjMagnitude': 5.584962500721157, 'weinerPathNumber': 768.0, 'weinerPolarityNumber': 46.0, 'xlogp': 7.043, 'zagrebIndex': 130.0, 'topoPSA': 20.23, 'tpsaEfficiency': 0.07018327405194792, '_class': 'de.unijena.cheminf.lotusfiller.mongocollections.LotusUniqueNaturalProduct'}\n"
     ]
    }
   ],
   "source": [
    "for doc in collection.find().limit(5):\n",
    "    print(doc)"
   ]
  },
  {
   "cell_type": "code",
   "execution_count": 1,
   "metadata": {},
   "outputs": [],
   "source": [
    "import pandas as pd"
   ]
  },
  {
   "cell_type": "code",
   "execution_count": 14,
   "metadata": {},
   "outputs": [],
   "source": [
    "# 获取所有数据（可能很大，建议 limit)\n",
    "data = list(collection.find())  # 取 1000 行数据\n",
    "\n",
    "# 转换为 DataFrame\n",
    "df = pd.DataFrame(data)"
   ]
  },
  {
   "cell_type": "code",
   "execution_count": 15,
   "metadata": {},
   "outputs": [
    {
     "data": {
      "text/plain": [
       "(276518, 88)"
      ]
     },
     "execution_count": 15,
     "metadata": {},
     "output_type": "execute_result"
    }
   ],
   "source": [
    "df.shape"
   ]
  },
  {
   "cell_type": "code",
   "execution_count": 12,
   "metadata": {},
   "outputs": [
    {
     "data": {
      "text/plain": [
       "Index(['_id', 'lotus_id', 'wikidata_id', 'contains_sugar', 'heavy_atom_number',\n",
       "       'smiles', 'inchi', 'inchikey', 'inchi2D', 'inchikey2D', 'smiles2D',\n",
       "       'sugar_free_smiles', 'deep_smiles', 'traditional_name', 'synonyms',\n",
       "       'iupac_name', 'contains_ring_sugars', 'contains_linear_sugars',\n",
       "       'collection', 'molecular_formula', 'molecular_weight', 'npl_noh_score',\n",
       "       'npl_score', 'npl_sugar_score', 'number_of_carbons',\n",
       "       'number_of_nitrogens', 'number_of_oxygens', 'max_number_of_rings',\n",
       "       'min_number_of_rings', 'sugar_free_heavy_atom_number',\n",
       "       'sugar_free_total_atom_number', 'total_atom_number', 'bond_count',\n",
       "       'xrefs', 'fragments', 'fragmentsWithSugar', 'murko_framework',\n",
       "       'ertlFunctionalFragments', 'ertlFunctionalFragmentsPseudoSmiles',\n",
       "       'pubchemFingerprint', 'pfCounts', 'circularFingerprint',\n",
       "       'extendedFingerprint', 'pubchemBits', 'pubchemBitsString',\n",
       "       'chemicalTaxonomyNPclassifierPathway',\n",
       "       'chemicalTaxonomyNPclassifierSuperclass',\n",
       "       'chemicalTaxonomyNPclassifierClass',\n",
       "       'chemicalTaxonomyClassyfireKingdom',\n",
       "       'chemicalTaxonomyClassyfireSuperclass',\n",
       "       'chemicalTaxonomyClassyfireClass',\n",
       "       'chemicalTaxonomyClassyfireDirectParent', 'allChemClassifications',\n",
       "       'taxonomyReferenceObjects', 'allTaxa', 'allWikidataIds', 'alogp',\n",
       "       'alogp2', 'amralogp', 'apol', 'bcutDescriptor', 'bpol',\n",
       "       'eccentricConnectivityIndexDescriptor', 'fmfDescriptor', 'fsp3',\n",
       "       'fragmentComplexityDescriptor', 'gravitationalIndexHeavyAtoms',\n",
       "       'hBondAcceptorCount', 'hBondDonorCount', 'hybridizationRatioDescriptor',\n",
       "       'kappaShapeIndex1', 'kappaShapeIndex2', 'kappaShapeIndex3',\n",
       "       'manholdlogp', 'petitjeanNumber', 'petitjeanShapeTopo',\n",
       "       'petitjeanShapeGeom', 'lipinskiRuleOf5Failures', 'numberSpiroAtoms',\n",
       "       'vabcDescriptor', 'vertexAdjMagnitude', 'weinerPathNumber',\n",
       "       'weinerPolarityNumber', 'xlogp', 'zagrebIndex', 'topoPSA',\n",
       "       'tpsaEfficiency', '_class'],\n",
       "      dtype='object')"
      ]
     },
     "execution_count": 12,
     "metadata": {},
     "output_type": "execute_result"
    }
   ],
   "source": [
    "df.columns"
   ]
  },
  {
   "cell_type": "code",
   "execution_count": 16,
   "metadata": {},
   "outputs": [
    {
     "data": {
      "text/plain": [
       "0    Organic compounds\n",
       "1    Organic compounds\n",
       "2    Organic compounds\n",
       "3    Organic compounds\n",
       "4    Organic compounds\n",
       "5    Organic compounds\n",
       "6    Organic compounds\n",
       "7    Organic compounds\n",
       "8    Organic compounds\n",
       "9    Organic compounds\n",
       "Name: chemicalTaxonomyClassyfireKingdom, dtype: object"
      ]
     },
     "execution_count": 16,
     "metadata": {},
     "output_type": "execute_result"
    }
   ],
   "source": [
    "df['chemicalTaxonomyClassyfireKingdom'].head(10)"
   ]
  },
  {
   "cell_type": "code",
   "execution_count": 17,
   "metadata": {},
   "outputs": [],
   "source": [
    "df.columns.to_series().to_csv(\"/Users/ejo/Desktop/columns.txt\", index=False, header=False)\n"
   ]
  },
  {
   "cell_type": "code",
   "execution_count": 18,
   "metadata": {},
   "outputs": [
    {
     "data": {
      "text/plain": [
       "0                         Terpenoids\n",
       "1    Shikimates and Phenylpropanoids\n",
       "2                         Terpenoids\n",
       "3                         Terpenoids\n",
       "4                         Terpenoids\n",
       "5            Polyketides|Polyketides\n",
       "6    Shikimates and Phenylpropanoids\n",
       "7                         Terpenoids\n",
       "8                        Polyketides\n",
       "9              Terpenoids|Terpenoids\n",
       "Name: chemicalTaxonomyNPclassifierPathway, dtype: object"
      ]
     },
     "execution_count": 18,
     "metadata": {},
     "output_type": "execute_result"
    }
   ],
   "source": [
    "df['chemicalTaxonomyNPclassifierPathway'].head(10)"
   ]
  },
  {
   "cell_type": "code",
   "execution_count": 19,
   "metadata": {},
   "outputs": [
    {
     "data": {
      "text/plain": [
       "0     Lipids and lipid-like molecules\n",
       "1    Phenylpropanoids and polyketides\n",
       "2            Organic oxygen compounds\n",
       "3     Lipids and lipid-like molecules\n",
       "4     Lipids and lipid-like molecules\n",
       "5    Phenylpropanoids and polyketides\n",
       "6    Phenylpropanoids and polyketides\n",
       "7     Lipids and lipid-like molecules\n",
       "8    Phenylpropanoids and polyketides\n",
       "9     Lipids and lipid-like molecules\n",
       "Name: chemicalTaxonomyClassyfireSuperclass, dtype: object"
      ]
     },
     "execution_count": 19,
     "metadata": {},
     "output_type": "execute_result"
    }
   ],
   "source": [
    "df['chemicalTaxonomyClassyfireSuperclass'].head(10)"
   ]
  },
  {
   "cell_type": "code",
   "execution_count": 20,
   "metadata": {},
   "outputs": [
    {
     "data": {
      "text/plain": [
       "0                 Cembranolides\n",
       "1                  Pterocarpans\n",
       "2           Phenolic glycosides\n",
       "3        Sesquiterpene lactones\n",
       "4                  Diterpenoids\n",
       "5      Macrolides and analogues\n",
       "6    Flavonoid-7-O-glucuronides\n",
       "7                 Xanthanolides\n",
       "8      Macrolides and analogues\n",
       "9                  Diterpenoids\n",
       "Name: chemicalTaxonomyClassyfireDirectParent, dtype: object"
      ]
     },
     "execution_count": 20,
     "metadata": {},
     "output_type": "execute_result"
    }
   ],
   "source": [
    "df['chemicalTaxonomyClassyfireDirectParent'].head(10)"
   ]
  },
  {
   "cell_type": "code",
   "execution_count": 21,
   "metadata": {},
   "outputs": [
    {
     "ename": "KeyError",
     "evalue": "'allTaxonomy'",
     "output_type": "error",
     "traceback": [
      "\u001b[0;31m---------------------------------------------------------------------------\u001b[0m",
      "\u001b[0;31mKeyError\u001b[0m                                  Traceback (most recent call last)",
      "File \u001b[0;32m/opt/anaconda3/lib/python3.11/site-packages/pandas/core/indexes/base.py:3791\u001b[0m, in \u001b[0;36mIndex.get_loc\u001b[0;34m(self, key)\u001b[0m\n\u001b[1;32m   3790\u001b[0m \u001b[38;5;28;01mtry\u001b[39;00m:\n\u001b[0;32m-> 3791\u001b[0m     \u001b[38;5;28;01mreturn\u001b[39;00m \u001b[38;5;28mself\u001b[39m\u001b[38;5;241m.\u001b[39m_engine\u001b[38;5;241m.\u001b[39mget_loc(casted_key)\n\u001b[1;32m   3792\u001b[0m \u001b[38;5;28;01mexcept\u001b[39;00m \u001b[38;5;167;01mKeyError\u001b[39;00m \u001b[38;5;28;01mas\u001b[39;00m err:\n",
      "File \u001b[0;32mindex.pyx:152\u001b[0m, in \u001b[0;36mpandas._libs.index.IndexEngine.get_loc\u001b[0;34m()\u001b[0m\n",
      "File \u001b[0;32mindex.pyx:181\u001b[0m, in \u001b[0;36mpandas._libs.index.IndexEngine.get_loc\u001b[0;34m()\u001b[0m\n",
      "File \u001b[0;32mpandas/_libs/hashtable_class_helper.pxi:7080\u001b[0m, in \u001b[0;36mpandas._libs.hashtable.PyObjectHashTable.get_item\u001b[0;34m()\u001b[0m\n",
      "File \u001b[0;32mpandas/_libs/hashtable_class_helper.pxi:7088\u001b[0m, in \u001b[0;36mpandas._libs.hashtable.PyObjectHashTable.get_item\u001b[0;34m()\u001b[0m\n",
      "\u001b[0;31mKeyError\u001b[0m: 'allTaxonomy'",
      "\nThe above exception was the direct cause of the following exception:\n",
      "\u001b[0;31mKeyError\u001b[0m                                  Traceback (most recent call last)",
      "Cell \u001b[0;32mIn[21], line 1\u001b[0m\n\u001b[0;32m----> 1\u001b[0m df[\u001b[38;5;124m'\u001b[39m\u001b[38;5;124mallTaxonomy\u001b[39m\u001b[38;5;124m'\u001b[39m]\u001b[38;5;241m.\u001b[39mhead(\u001b[38;5;241m10\u001b[39m)\n",
      "File \u001b[0;32m/opt/anaconda3/lib/python3.11/site-packages/pandas/core/frame.py:3893\u001b[0m, in \u001b[0;36mDataFrame.__getitem__\u001b[0;34m(self, key)\u001b[0m\n\u001b[1;32m   3891\u001b[0m \u001b[38;5;28;01mif\u001b[39;00m \u001b[38;5;28mself\u001b[39m\u001b[38;5;241m.\u001b[39mcolumns\u001b[38;5;241m.\u001b[39mnlevels \u001b[38;5;241m>\u001b[39m \u001b[38;5;241m1\u001b[39m:\n\u001b[1;32m   3892\u001b[0m     \u001b[38;5;28;01mreturn\u001b[39;00m \u001b[38;5;28mself\u001b[39m\u001b[38;5;241m.\u001b[39m_getitem_multilevel(key)\n\u001b[0;32m-> 3893\u001b[0m indexer \u001b[38;5;241m=\u001b[39m \u001b[38;5;28mself\u001b[39m\u001b[38;5;241m.\u001b[39mcolumns\u001b[38;5;241m.\u001b[39mget_loc(key)\n\u001b[1;32m   3894\u001b[0m \u001b[38;5;28;01mif\u001b[39;00m is_integer(indexer):\n\u001b[1;32m   3895\u001b[0m     indexer \u001b[38;5;241m=\u001b[39m [indexer]\n",
      "File \u001b[0;32m/opt/anaconda3/lib/python3.11/site-packages/pandas/core/indexes/base.py:3798\u001b[0m, in \u001b[0;36mIndex.get_loc\u001b[0;34m(self, key)\u001b[0m\n\u001b[1;32m   3793\u001b[0m     \u001b[38;5;28;01mif\u001b[39;00m \u001b[38;5;28misinstance\u001b[39m(casted_key, \u001b[38;5;28mslice\u001b[39m) \u001b[38;5;129;01mor\u001b[39;00m (\n\u001b[1;32m   3794\u001b[0m         \u001b[38;5;28misinstance\u001b[39m(casted_key, abc\u001b[38;5;241m.\u001b[39mIterable)\n\u001b[1;32m   3795\u001b[0m         \u001b[38;5;129;01mand\u001b[39;00m \u001b[38;5;28many\u001b[39m(\u001b[38;5;28misinstance\u001b[39m(x, \u001b[38;5;28mslice\u001b[39m) \u001b[38;5;28;01mfor\u001b[39;00m x \u001b[38;5;129;01min\u001b[39;00m casted_key)\n\u001b[1;32m   3796\u001b[0m     ):\n\u001b[1;32m   3797\u001b[0m         \u001b[38;5;28;01mraise\u001b[39;00m InvalidIndexError(key)\n\u001b[0;32m-> 3798\u001b[0m     \u001b[38;5;28;01mraise\u001b[39;00m \u001b[38;5;167;01mKeyError\u001b[39;00m(key) \u001b[38;5;28;01mfrom\u001b[39;00m \u001b[38;5;21;01merr\u001b[39;00m\n\u001b[1;32m   3799\u001b[0m \u001b[38;5;28;01mexcept\u001b[39;00m \u001b[38;5;167;01mTypeError\u001b[39;00m:\n\u001b[1;32m   3800\u001b[0m     \u001b[38;5;66;03m# If we have a listlike key, _check_indexing_error will raise\u001b[39;00m\n\u001b[1;32m   3801\u001b[0m     \u001b[38;5;66;03m#  InvalidIndexError. Otherwise we fall through and re-raise\u001b[39;00m\n\u001b[1;32m   3802\u001b[0m     \u001b[38;5;66;03m#  the TypeError.\u001b[39;00m\n\u001b[1;32m   3803\u001b[0m     \u001b[38;5;28mself\u001b[39m\u001b[38;5;241m.\u001b[39m_check_indexing_error(key)\n",
      "\u001b[0;31mKeyError\u001b[0m: 'allTaxonomy'"
     ]
    }
   ],
   "source": [
    "df['allTaxonomy'].head(10)"
   ]
  },
  {
   "cell_type": "code",
   "execution_count": 22,
   "metadata": {},
   "outputs": [
    {
     "data": {
      "text/plain": [
       "0    [Eukaryota, Anisomeles, Archaeplastida, Planta...\n",
       "1    [Eukaryota, Lespedeza, Plantae, Archaeplastida...\n",
       "2    [Neonauclea sessilifolia, Eukaryota, Archaepla...\n",
       "3    [Gaillardia pulchella, Eukaryota, Plantae, Ast...\n",
       "4    [Erythroxylum rotundifolium, Erythroxylaceae, ...\n",
       "5    [Fungi, Ascomycota, Aspergillaceae, Eukaryota,...\n",
       "6    [Eukaryota, Verbenaceae, Plantae, Archaeplasti...\n",
       "7    [Xanthium, Xanthium spinosum, Plantae, Equiset...\n",
       "8    [Sorangium cellulosum, Sorangium, Proteobacter...\n",
       "9    [Rhodophyta, Eukaryota, Laurencia dendroidea, ...\n",
       "Name: allTaxa, dtype: object"
      ]
     },
     "execution_count": 22,
     "metadata": {},
     "output_type": "execute_result"
    }
   ],
   "source": [
    "df['allTaxa'].head(10)"
   ]
  },
  {
   "cell_type": "code",
   "execution_count": 23,
   "metadata": {},
   "outputs": [],
   "source": [
    "df.to_csv(\"/Users/ejo/Desktop/lotus.csv\", index=False)"
   ]
  },
  {
   "cell_type": "code",
   "execution_count": null,
   "metadata": {},
   "outputs": [],
   "source": []
  }
 ],
 "metadata": {
  "kernelspec": {
   "display_name": "base",
   "language": "python",
   "name": "python3"
  },
  "language_info": {
   "codemirror_mode": {
    "name": "ipython",
    "version": 3
   },
   "file_extension": ".py",
   "mimetype": "text/x-python",
   "name": "python",
   "nbconvert_exporter": "python",
   "pygments_lexer": "ipython3",
   "version": "3.11.7"
  }
 },
 "nbformat": 4,
 "nbformat_minor": 2
}
